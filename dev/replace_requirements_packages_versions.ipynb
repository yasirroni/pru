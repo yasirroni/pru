{
 "cells": [
  {
   "cell_type": "code",
   "execution_count": 1,
   "id": "4fc85296",
   "metadata": {},
   "outputs": [],
   "source": [
    "from pru import (\n",
    "    get_installed_packages_name_and_version,\n",
    "    get_installed_requirements_packages_and_version,\n",
    "    replace_requirements_packages_versions,\n",
    ")"
   ]
  },
  {
   "cell_type": "code",
   "execution_count": 2,
   "id": "4af22993",
   "metadata": {},
   "outputs": [],
   "source": [
    "file_path = \"../pytests/requirements/3_12/requirements_mix.txt\""
   ]
  },
  {
   "cell_type": "code",
   "execution_count": 3,
   "id": "6c6a1ffb",
   "metadata": {},
   "outputs": [
    {
     "data": {
      "text/plain": [
       "{'numpy': '2.2.4',\n",
       " 'pandas': '2.2.3',\n",
       " 'pre-commit': '4.2.0',\n",
       " 'requests': '2.32.3',\n",
       " 'scipy': '1.15.2',\n",
       " 'webio_jupyter_extension': '0.1.0'}"
      ]
     },
     "execution_count": 3,
     "metadata": {},
     "output_type": "execute_result"
    }
   ],
   "source": [
    "req = get_installed_requirements_packages_and_version(file_path)\n",
    "req = {key: req[key] for key in sorted(req.keys())}\n",
    "req"
   ]
  },
  {
   "cell_type": "code",
   "execution_count": 4,
   "id": "2f3b9f3a",
   "metadata": {},
   "outputs": [
    {
     "data": {
      "text/plain": [
       "{'PyYAML': '6.0.1',\n",
       " 'Pygments': '2.18.0',\n",
       " 'appnope': '0.1.4',\n",
       " 'asttokens': '3.0.0',\n",
       " 'build': '1.2.1',\n",
       " 'certifi': '2024.2.2',\n",
       " 'cfgv': '3.4.0',\n",
       " 'chardet': '4.0.0',\n",
       " 'charset-normalizer': '3.3.2',\n",
       " 'comm': '0.2.2',\n",
       " 'coverage': '7.5.2',\n",
       " 'debugpy': '1.8.14',\n",
       " 'decorator': '5.2.1',\n",
       " 'distlib': '0.3.8',\n",
       " 'docutils': '0.21.2',\n",
       " 'executing': '2.2.0',\n",
       " 'filelock': '3.14.0',\n",
       " 'identify': '2.5.36',\n",
       " 'idna': '2.10',\n",
       " 'importlib_metadata': '7.1.0',\n",
       " 'iniconfig': '2.0.0',\n",
       " 'ipykernel': '6.29.5',\n",
       " 'ipython': '9.1.0',\n",
       " 'ipython_pygments_lexers': '1.1.1',\n",
       " 'jaraco.classes': '3.4.0',\n",
       " 'jaraco.context': '5.3.0',\n",
       " 'jaraco.functools': '4.0.1',\n",
       " 'jedi': '0.19.2',\n",
       " 'jupyter_client': '8.6.3',\n",
       " 'jupyter_core': '5.7.2',\n",
       " 'keyring': '25.2.1',\n",
       " 'markdown-it-py': '3.0.0',\n",
       " 'matplotlib-inline': '0.1.7',\n",
       " 'mdurl': '0.1.2',\n",
       " 'more-itertools': '10.2.0',\n",
       " 'nest-asyncio': '1.6.0',\n",
       " 'nh3': '0.2.17',\n",
       " 'nodeenv': '1.8.0',\n",
       " 'numpy': '2.2.4',\n",
       " 'packaging': '24.0',\n",
       " 'pandas': '2.2.3',\n",
       " 'parso': '0.8.4',\n",
       " 'pexpect': '4.9.0',\n",
       " 'pip': '24.0',\n",
       " 'pkginfo': '1.10.0',\n",
       " 'platformdirs': '4.2.2',\n",
       " 'pluggy': '1.5.0',\n",
       " 'pre_commit': '4.2.0',\n",
       " 'prompt_toolkit': '3.0.51',\n",
       " 'pru': '0.0.0a1',\n",
       " 'psutil': '7.0.0',\n",
       " 'ptyprocess': '0.7.0',\n",
       " 'pure_eval': '0.2.3',\n",
       " 'pyproject_hooks': '1.1.0',\n",
       " 'pytest': '8.2.2',\n",
       " 'pytest-cov': '5.0.0',\n",
       " 'pytest-dependency': '0.6.0',\n",
       " 'python-dateutil': '2.9.0.post0',\n",
       " 'pytz': '2024.1',\n",
       " 'pyzmq': '26.4.0',\n",
       " 'readme_renderer': '43.0',\n",
       " 'requests': '2.32.3',\n",
       " 'requests-toolbelt': '1.0.0',\n",
       " 'rfc3986': '2.0.0',\n",
       " 'rich': '13.7.1',\n",
       " 'ruff': '0.4.5',\n",
       " 'scipy': '1.15.2',\n",
       " 'setuptools': '70.0.0',\n",
       " 'six': '1.16.0',\n",
       " 'stack-data': '0.6.3',\n",
       " 'tornado': '6.4.2',\n",
       " 'traitlets': '5.14.3',\n",
       " 'twine': '5.1.0',\n",
       " 'tzdata': '2024.1',\n",
       " 'urllib3': '1.26.18',\n",
       " 'virtualenv': '20.26.2',\n",
       " 'wcwidth': '0.2.13',\n",
       " 'webio-jupyter-extension': '0.1.0',\n",
       " 'zipp': '3.19.0'}"
      ]
     },
     "execution_count": 4,
     "metadata": {},
     "output_type": "execute_result"
    }
   ],
   "source": [
    "ins = get_installed_packages_name_and_version()\n",
    "ins = {key: ins[key] for key in sorted(ins.keys())}\n",
    "ins"
   ]
  },
  {
   "cell_type": "code",
   "execution_count": 5,
   "id": "16b20dc4",
   "metadata": {},
   "outputs": [],
   "source": [
    "replace_requirements_packages_versions(file_path)"
   ]
  },
  {
   "cell_type": "code",
   "execution_count": null,
   "id": "63041c30",
   "metadata": {},
   "outputs": [],
   "source": []
  }
 ],
 "metadata": {
  "kernelspec": {
   "display_name": "env3_12",
   "language": "python",
   "name": "python3"
  },
  "language_info": {
   "codemirror_mode": {
    "name": "ipython",
    "version": 3
   },
   "file_extension": ".py",
   "mimetype": "text/x-python",
   "name": "python",
   "nbconvert_exporter": "python",
   "pygments_lexer": "ipython3",
   "version": "3.12.4"
  }
 },
 "nbformat": 4,
 "nbformat_minor": 5
}
